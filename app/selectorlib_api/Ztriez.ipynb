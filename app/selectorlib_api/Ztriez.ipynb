{
 "cells": [
  {
   "cell_type": "code",
   "execution_count": null,
   "metadata": {},
   "outputs": [],
   "source": [
    "class SelectorExtract:\n",
    "    def __init__(self, url, yaml_file):\n",
    "        self.url = url\n",
    "        self.yaml_file = yaml_file"
   ]
  }
 ],
 "metadata": {
  "kernelspec": {
   "display_name": ".venv",
   "language": "python",
   "name": "python3"
  },
  "language_info": {
   "name": "python",
   "version": "3.10.2 (tags/v3.10.2:a58ebcc, Jan 17 2022, 14:12:15) [MSC v.1929 64 bit (AMD64)]"
  },
  "orig_nbformat": 4,
  "vscode": {
   "interpreter": {
    "hash": "35705131673a119a6caaabe35f60afe40420ae9f9efdb1e94e2dc57c89259fa5"
   }
  }
 },
 "nbformat": 4,
 "nbformat_minor": 2
}
